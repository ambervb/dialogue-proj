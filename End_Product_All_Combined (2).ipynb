{
 "cells": [
  {
   "cell_type": "markdown",
   "id": "dece7aed",
   "metadata": {},
   "source": [
    "# Imports"
   ]
  },
  {
   "cell_type": "code",
   "execution_count": 1,
   "id": "4bc4872d",
   "metadata": {
    "scrolled": true
   },
   "outputs": [
    {
     "name": "stdout",
     "output_type": "stream",
     "text": [
      "using gpu 0\n"
     ]
    }
   ],
   "source": [
    "import torch\n",
    "from torch.utils.data import DataLoader, TensorDataset\n",
    "from torchvision import datasets, transforms\n",
    "from torchvision.transforms import ToTensor, Lambda, Compose\n",
    "import matplotlib.pyplot as plt\n",
    "from sklearn.metrics import accuracy_score\n",
    "from pipetorch.train import *\n",
    "from torch.autograd import Variable\n",
    "from torch.nn import Linear, ReLU, CrossEntropyLoss, Sequential, Conv2d, MaxPool2d, Module, Softmax, BatchNorm2d, Dropout\n",
    "from torch.optim import Adam, SGD\n",
    "from tqdm import tqdm\n",
    "from torch import nn, optim\n",
    "import seaborn as sns\n",
    "import torch.nn.functional as F\n",
    "import pandas as pd\n",
    "import numpy as np\n",
    "import torchvision\n",
    "from torchvision.datasets import ImageFolder\n",
    "import pandas as pd\n",
    "import numpy as np\n",
    "import datetime\n",
    "from pathlib import Path\n",
    "from dateutil import parser\n",
    "import librosa\n",
    "import librosa.display\n",
    "import os\n",
    "import scipy\n",
    "import soundfile as sf\n",
    "import matplotlib.pyplot as plt\n",
    "from scipy.io import wavfile"
   ]
  },
  {
   "cell_type": "markdown",
   "id": "9b03499f",
   "metadata": {},
   "source": [
    "## Folders, files and timestamps defined"
   ]
  },
  {
   "cell_type": "markdown",
   "id": "b6635773",
   "metadata": {},
   "source": [
    "Before you start: put the audio file(s) in the correct input folder and reference it correctly below"
   ]
  },
  {
   "cell_type": "code",
   "execution_count": 2,
   "id": "f88aff91",
   "metadata": {},
   "outputs": [],
   "source": [
    "input_folder = \"./audio/\"\n",
    "labels_path = \"conversation_labels.npy\"\n",
    "labels_conv_path = \"conversation_convlabels.npy\"\n",
    "voice_yesno_model = \"voice_detection_model\"\n",
    "voice_comparison_model = \"voice_comparison_model\"\n",
    "with_timestamps = False\n",
    "output_spectro = \"OutputSpectro.npy\"\n",
    "output_mfcc = \"OutputMFCC.npy\""
   ]
  },
  {
   "cell_type": "markdown",
   "id": "13c86610",
   "metadata": {},
   "source": [
    "## Classes"
   ]
  },
  {
   "cell_type": "code",
   "execution_count": 3,
   "id": "0838e9eb",
   "metadata": {},
   "outputs": [],
   "source": [
    "class Second:\n",
    "  def __init__(self, timestamp, data):\n",
    "    self.timestamp = timestamp\n",
    "    self.data = data"
   ]
  },
  {
   "cell_type": "markdown",
   "id": "5d8efa9a",
   "metadata": {},
   "source": [
    "# Dataloading & converting to MFCC & Spectrograms"
   ]
  },
  {
   "cell_type": "markdown",
   "id": "1fea4393",
   "metadata": {},
   "source": [
    "In case off RuntimeError: Error opening './audio/.ipynb_checkpoints': Format not recognised.\n",
    "Go to terminal, go to correct folder and rm -r .ipynb_checkpoints "
   ]
  },
  {
   "cell_type": "code",
   "execution_count": 4,
   "id": "092edf6c",
   "metadata": {
    "scrolled": true
   },
   "outputs": [],
   "source": [
    "audioFragmentsSpectro = []\n",
    "audioFragmentsMFCC = []\n",
    "for filename in os.listdir(input_folder):\n",
    "    if(with_timestamps):\n",
    "        timestamp = Path(filename).stem\n",
    "        parsedtimestamp = parser.parse(timestamp)\n",
    "    \n",
    "    samples, sampleRate = sf.read(input_folder + filename)\n",
    "    #resamples the samples to sampling rate of 44100\n",
    "    if not sampleRate == 44100:\n",
    "        samples = librosa.resample(samples, sampleRate, 44100)\n",
    "        sampleRate = 44100\n",
    "    halfSecondSamples = sampleRate/2\n",
    "    #disregards the last audio sample if it is less than half a second\n",
    "    samples = samples[:int((len(samples)-(len(samples) % halfSecondSamples)))]\n",
    "    array = np.reshape(samples, (int(samples.size/halfSecondSamples), int(halfSecondSamples)))\n",
    "    for index, sample in enumerate(array):\n",
    "        if(with_timestamps):\n",
    "            td = datetime.timedelta(0,index)\n",
    "            increasedparsedtimestamp = parsedtimestamp + td\n",
    "\n",
    "        mfcc = librosa.feature.mfcc(y = sample, sr = sampleRate, n_mfcc=40)\n",
    "        spectrogram = librosa.feature.melspectrogram(sample, sr=sampleRate)\n",
    "        mfccArray = np.array(mfcc)\n",
    "        spectrogramArray = np.array(spectrogram)\n",
    "        if(with_timestamps):\n",
    "            mfccArray = Second(increasedparsedtimestamp, mfccArray)\n",
    "            spectrogramArray = Second(increasedparsedtimestamp, spectrogramArray)\n",
    "        audioFragmentsMFCC.append(mfccArray)\n",
    "        audioFragmentsSpectro.append(spectrogramArray)"
   ]
  },
  {
   "cell_type": "markdown",
   "id": "77567763",
   "metadata": {},
   "source": [
    "## Checking results of converting the data"
   ]
  },
  {
   "cell_type": "code",
   "execution_count": 5,
   "id": "1c58fac6",
   "metadata": {},
   "outputs": [
    {
     "name": "stdout",
     "output_type": "stream",
     "text": [
      "Amount of halfseconds: 1248\n",
      "Amount of halfseconds: 1248\n",
      "Spectrogram shape: 128, 44\n",
      "MFCC shape: 40, 44\n"
     ]
    }
   ],
   "source": [
    "print(\"Amount of halfseconds: \"+str(len(audioFragmentsSpectro)))\n",
    "print(\"Amount of halfseconds: \"+str(len(audioFragmentsMFCC)))\n",
    "if(with_timestamps):\n",
    "    print(\"Timestamp 1: \"+str(audioFragmentsMFCC[0].timestamp))\n",
    "    print(\"Timestamp 2: \"+str(audioFragmentsMFCC[1].timestamp))\n",
    "    print(\"Timestamp 3: \"+str(audioFragmentsMFCC[2].timestamp))\n",
    "    print(\"Spectrogram shape: \"+str(len(audioFragmentsSpectro[0].data))+\", \"+str(len(audioFragmentsSpectro[0].data[0])))\n",
    "    print(\"MFCC shape: \"+str(len(audioFragmentsMFCC[0].data))+\", \"+str(len(audioFragmentsMFCC[0].data[0])))\n",
    "#    for frag in audioFragmentsMFCC:\n",
    "#        print(len(frag.data),\"||\", frag.timestamp)\n",
    "else:\n",
    "    print(\"Spectrogram shape: \"+str(len(audioFragmentsSpectro[0]))+\", \"+str(len(audioFragmentsSpectro[0][0])))\n",
    "    print(\"MFCC shape: \"+str(len(audioFragmentsMFCC[0]))+\", \"+str(len(audioFragmentsMFCC[0][0])))"
   ]
  },
  {
   "cell_type": "markdown",
   "id": "750032c2",
   "metadata": {},
   "source": [
    "# Defining the voice detection CNN Model"
   ]
  },
  {
   "cell_type": "code",
   "execution_count": 6,
   "id": "77f39767",
   "metadata": {},
   "outputs": [],
   "source": [
    "class model(nn.Module):\n",
    "    def __init__(self,n_features,kernel_size):\n",
    "        super(model, self).__init__()        \n",
    "        self.conv1 = nn.Conv1d(n_features, 40, kernel_size=7, stride = 1, padding= 3, padding_mode= 'zeros') #1 input channels, 100 output channels\n",
    "        self.conv2 = nn.Conv1d(40, 60, kernel_size=5, stride = 1, padding = 2, padding_mode= 'zeros') #100 input channels from previous Conv. layer, 75 out\n",
    "        self.conv3 = nn.Conv1d(60, 70, kernel_size=3, stride = 1, padding = 1, padding_mode= 'zeros')\n",
    "        self.conv4 = nn.Conv1d(70, 80, kernel_size=3, stride = 1, padding = 1, padding_mode= 'zeros')\n",
    "\n",
    "        self.fc1 = nn.Linear(160, 100) #Fully-connected classifier layer\n",
    "        self.fc2 = nn.Linear(100, 50)\n",
    "        self.fc3 = nn.Linear(50,1) #Fully-connected classifier layer\n",
    "\n",
    "    def forward(self, x):\n",
    "        x = F.relu(F.max_pool1d(self.conv1(x), 2))\n",
    "        x = F.relu(F.max_pool1d(self.conv2(x), 2))\n",
    "        x = F.relu(F.max_pool1d(self.conv3(x), 2))\n",
    "        x = F.relu(F.max_pool1d(self.conv4(x), 2))\n",
    "        x = x.reshape(len(x), -1)\n",
    "\n",
    "#point A\n",
    "#point B\n",
    "        x = self.fc1(x)\n",
    "        x = F.relu(x)\n",
    "        x = self.fc2(x)\n",
    "        x = F.relu(x)\n",
    "        x = self.fc3(x)\n",
    "        return torch.sigmoid(x)\n",
    "\n",
    "    def post_forward(self, y):\n",
    "\n",
    "        return torch.round(y)        "
   ]
  },
  {
   "cell_type": "markdown",
   "id": "d53b256b",
   "metadata": {},
   "source": [
    "# Loading & preparing by resizing the data for the first model"
   ]
  },
  {
   "cell_type": "code",
   "execution_count": 7,
   "id": "b0cfdfd9",
   "metadata": {},
   "outputs": [
    {
     "name": "stderr",
     "output_type": "stream",
     "text": [
      "/tmp/ipykernel_12082/3960119229.py:2: UserWarning: Creating a tensor from a list of numpy.ndarrays is extremely slow. Please consider converting the list to a single numpy.ndarray with numpy.array() before converting to a tensor. (Triggered internally at  /opt/conda/conda-bld/pytorch_1634272068185/work/torch/csrc/utils/tensor_new.cpp:201.)\n",
      "  data = torch.Tensor(audioFragmentsMFCC).float()\n"
     ]
    }
   ],
   "source": [
    "device = torch.device(\"cuda\" if torch.cuda.is_available() else \"cpu\")\n",
    "data = torch.Tensor(audioFragmentsMFCC).float()\n",
    "data = data.to(device)"
   ]
  },
  {
   "cell_type": "markdown",
   "id": "e7e29a74",
   "metadata": {},
   "source": [
    "# Loading and preparing trained voice recognition model"
   ]
  },
  {
   "cell_type": "code",
   "execution_count": 8,
   "id": "759f22b9",
   "metadata": {},
   "outputs": [],
   "source": [
    "CNN = model(data.shape[1], 7)\n",
    "CNN.load_state_dict(torch.load(voice_yesno_model), strict=False)\n",
    "CNN = CNN.to(device)"
   ]
  },
  {
   "cell_type": "markdown",
   "id": "77a35df6",
   "metadata": {},
   "source": [
    "# Executing the first model on data"
   ]
  },
  {
   "cell_type": "code",
   "execution_count": 9,
   "id": "a5343c73",
   "metadata": {},
   "outputs": [],
   "source": [
    "y_pred = CNN(data)\n",
    "y_pred = y_pred.ge(.5).view(-1).cpu()"
   ]
  },
  {
   "cell_type": "markdown",
   "id": "ef34f820",
   "metadata": {},
   "source": [
    "# Load in labels"
   ]
  },
  {
   "cell_type": "code",
   "execution_count": 10,
   "id": "3610cb4f",
   "metadata": {},
   "outputs": [],
   "source": [
    "labels_seconds = np.load(labels_path, allow_pickle = True)"
   ]
  },
  {
   "cell_type": "markdown",
   "id": "ae657397",
   "metadata": {},
   "source": [
    "# y_pred from Tensor to Numpy array"
   ]
  },
  {
   "cell_type": "code",
   "execution_count": 11,
   "id": "8113010b",
   "metadata": {},
   "outputs": [],
   "source": [
    "predictions = y_pred.numpy()"
   ]
  },
  {
   "cell_type": "markdown",
   "id": "80050865",
   "metadata": {},
   "source": [
    "# Labels in this case were for full seconds so we double the amount of labels and create a labels array with only true and false"
   ]
  },
  {
   "cell_type": "code",
   "execution_count": 12,
   "id": "f1f3254e",
   "metadata": {
    "scrolled": false
   },
   "outputs": [],
   "source": [
    "preds = predictions[:(len(labels_seconds)*2)]\n",
    "labels = []\n",
    "labels_TF = []\n",
    "for label in labels_seconds:\n",
    "    if(label.startswith(\"False\")):\n",
    "        label = False        \n",
    "    else:\n",
    "        label = label.astype(int)\n",
    "    labels.append(label)\n",
    "    labels.append(label)\n",
    "    \n",
    "for label in labels_seconds:\n",
    "    if(label.startswith(\"False\")):\n",
    "        label = False        \n",
    "    else:\n",
    "        label = True\n",
    "    labels_TF.append(label)\n",
    "    labels_TF.append(label)"
   ]
  },
  {
   "cell_type": "markdown",
   "id": "283e4e20",
   "metadata": {},
   "source": [
    "#### labels: labels with speaker ids\n",
    "#### labels_TF: labels with only true or false for speech"
   ]
  },
  {
   "cell_type": "code",
   "execution_count": 13,
   "id": "32c21bfe",
   "metadata": {
    "scrolled": false
   },
   "outputs": [
    {
     "name": "stdout",
     "output_type": "stream",
     "text": [
      "[89, 89, 89, 89, False, False, False, False, False, False]\n"
     ]
    }
   ],
   "source": [
    "print(labels[330:340])"
   ]
  },
  {
   "cell_type": "code",
   "execution_count": 14,
   "id": "9d0b7ab6",
   "metadata": {
    "scrolled": false
   },
   "outputs": [
    {
     "name": "stdout",
     "output_type": "stream",
     "text": [
      "[True, True, True, True, False, False, False, False, False, False]\n"
     ]
    }
   ],
   "source": [
    "print(labels_TF[330:340])"
   ]
  },
  {
   "cell_type": "markdown",
   "id": "66e962fa",
   "metadata": {},
   "source": [
    "# Printing out accuracy"
   ]
  },
  {
   "cell_type": "code",
   "execution_count": 15,
   "id": "1d6aea68",
   "metadata": {
    "scrolled": false
   },
   "outputs": [
    {
     "name": "stdout",
     "output_type": "stream",
     "text": [
      "1248\n",
      "1097\n",
      "87.90%\n"
     ]
    }
   ],
   "source": [
    "correct = []\n",
    "for i in range(len(preds)):\n",
    "    correct.append(preds[i] == bool(labels_TF[i]))\n",
    "print(len(correct))\n",
    "print(correct.count(True))\n",
    "format_float = \"{:.2f}\".format(correct.count(True)/len(correct)*100)\n",
    "print(str(format_float)+\"%\")"
   ]
  },
  {
   "cell_type": "code",
   "execution_count": 16,
   "id": "648096e8",
   "metadata": {},
   "outputs": [
    {
     "data": {
      "image/png": "[encoded data removed]",
      "text/plain": [
       "<Figure size 432x288 with 1 Axes>"
      ]
     },
     "metadata": {
      "needs_background": "light"
     },
     "output_type": "display_data"
    }
   ],
   "source": [
    "plt.plot(range(0, len(preds)), preds, 'r')\n",
    "plt.title(\"Displaying when a prediction is correct\")\n",
    "plt.xlabel('Sample')\n",
    "plt.ylabel('True(1) or false(0)')\n",
    "plt.show()"
   ]
  },
  {
   "cell_type": "code",
   "execution_count": 17,
   "id": "d50f505c",
   "metadata": {},
   "outputs": [
    {
     "data": {
      "image/png": "[encoded data removed]",
      "text/plain": [
       "<Figure size 432x288 with 2 Axes>"
      ]
     },
     "metadata": {
      "needs_background": "light"
     },
     "output_type": "display_data"
    }
   ],
   "source": [
    "classes = ['No Voice', 'Voice']\n",
    "cm = confusion_matrix(labels_TF[:len(preds)], preds)\n",
    "df_cm = pd.DataFrame(cm, index=classes, columns=classes)\n",
    "hmap = sns.heatmap(df_cm, annot=True, fmt=\"d\", cmap= 'crest')\n",
    "hmap.yaxis.set_ticklabels(hmap.yaxis.get_ticklabels(), rotation=0, ha='right')\n",
    "hmap.xaxis.set_ticklabels(hmap.xaxis.get_ticklabels(), rotation=30, ha='right')\n",
    "plt.ylabel('True label')\n",
    "plt.xlabel('Predicted label');"
   ]
  },
  {
   "cell_type": "code",
   "execution_count": 18,
   "id": "4d200057",
   "metadata": {},
   "outputs": [
    {
     "name": "stdout",
     "output_type": "stream",
     "text": [
      "53.93% of the time there was speech\n"
     ]
    }
   ],
   "source": [
    "format_float = \"{:.2f}\".format(preds.sum()/len(preds)*100)\n",
    "percentage_spoken = str(format_float)\n",
    "print(str(percentage_spoken)+\"% of the time there was speech\")"
   ]
  },
  {
   "cell_type": "markdown",
   "id": "af773038",
   "metadata": {},
   "source": [
    "# "
   ]
  },
  {
   "cell_type": "markdown",
   "id": "59a6593d",
   "metadata": {},
   "source": [
    "# "
   ]
  },
  {
   "cell_type": "markdown",
   "id": "a6580f1e",
   "metadata": {},
   "source": [
    "# "
   ]
  },
  {
   "cell_type": "markdown",
   "id": "ca0072aa",
   "metadata": {},
   "source": [
    "# Create a list of the true-labeled data and their respective labels"
   ]
  },
  {
   "cell_type": "code",
   "execution_count": 19,
   "id": "b87a8d37",
   "metadata": {
    "scrolled": true
   },
   "outputs": [],
   "source": [
    "count_true = np.count_nonzero(y_pred) \n",
    "pos_voice_result = np.empty((count_true, len(audioFragmentsMFCC[0]), len(audioFragmentsMFCC[0][0])))\n",
    "labels_T = []\n",
    "index = 0\n",
    "for i in range(0, len(y_pred)):\n",
    "    if(y_pred[i]):   \n",
    "        pos_voice_result[index] = audioFragmentsMFCC[i]\n",
    "        labels_T.append(labels[i])\n",
    "        index +=1\n",
    "labels_T.append(labels_T[0])"
   ]
  },
  {
   "cell_type": "markdown",
   "id": "c5b7cf81",
   "metadata": {},
   "source": [
    "# Create a second list of the true-labeled data, but all samples are moved one spot up and the last becomes the first"
   ]
  },
  {
   "cell_type": "code",
   "execution_count": 20,
   "id": "8d3a025e",
   "metadata": {},
   "outputs": [
    {
     "name": "stdout",
     "output_type": "stream",
     "text": [
      "673\n",
      "(673, 40, 44)\n",
      "673\n",
      "(673, 40, 44)\n"
     ]
    }
   ],
   "source": [
    "pos_voice_result_2 = pos_voice_result[1:]\n",
    "pos_voice_result_2 = np.concatenate((pos_voice_result_2, np.expand_dims(pos_voice_result[0], axis=0)))\n",
    "print(len(pos_voice_result_2))\n",
    "print(pos_voice_result_2.shape)\n",
    "print(len(pos_voice_result))\n",
    "print(pos_voice_result.shape)"
   ]
  },
  {
   "cell_type": "markdown",
   "id": "a218e54d",
   "metadata": {},
   "source": [
    "# Defining the voice comparison CNN model"
   ]
  },
  {
   "cell_type": "code",
   "execution_count": 21,
   "id": "af08b6cb",
   "metadata": {},
   "outputs": [],
   "source": [
    "class model(nn.Module):\n",
    "    def __init__(self,n_features,kernel_size):\n",
    "        super(model, self).__init__()\n",
    "        self.conv1 = nn.Conv1d(n_features, 40, kernel_size=7, stride = 1, padding = 3, padding_mode= 'zeros') #40 input channels, 40 output channels\n",
    "        self.conv2 = nn.Conv1d(40, 60, kernel_size=5, stride = 1, padding = 2, padding_mode= 'zeros') #40 input channels from previous Conv. layer, 80 out\n",
    "        self.conv3 = nn.Conv1d(60, 70, kernel_size=3, stride = 1, padding = 1, padding_mode= 'zeros')\n",
    "        self.conv4 = nn.Conv1d(70, 80, kernel_size=3, stride = 1, padding = 1, padding_mode= 'zeros')\n",
    "\n",
    "        self.fc1 = nn.Linear(320, 200) #Fully-connected classifier layer \n",
    "        self.fc2 = nn.Linear(200, 100)\n",
    "        self.fc3 = nn.Linear(100, 1) #Fully-connected classifier layer\n",
    "    \n",
    "    def forward_one_voice(self, x):\n",
    "        x = F.relu(F.max_pool1d(self.conv1(x), 2))\n",
    "        x = F.relu(F.max_pool1d(self.conv2(x), 2))\n",
    "        x = F.relu(F.max_pool1d(self.conv3(x), 2))\n",
    "        x = F.relu(F.max_pool1d(self.conv4(x), 2))\n",
    "        \n",
    "        x = x.reshape(len(x), -1)\n",
    "        batch_size = len(x)\n",
    "        \n",
    "        return x\n",
    "    \n",
    "    def forward(self, x1, x2):\n",
    "        x1 = self.forward_one_voice(x1)\n",
    "        x2 = self.forward_one_voice(x2)\n",
    "        x = torch.concat([x1, x2], axis = 1)\n",
    "        x = self.fc1(x)\n",
    "        x = F.relu(x)\n",
    "        x = self.fc2(x)\n",
    "        x = F.relu(x)\n",
    "        x = self.fc3(x)\n",
    "        \n",
    "        return torch.sigmoid(x)\n",
    "    \n",
    "    def post_forward(self, y): \n",
    "        return torch.round(y)"
   ]
  },
  {
   "cell_type": "markdown",
   "id": "f1bc6e94",
   "metadata": {},
   "source": [
    "# Loading & preparing by resizing the data for the second model"
   ]
  },
  {
   "cell_type": "code",
   "execution_count": 22,
   "id": "83204c1c",
   "metadata": {},
   "outputs": [],
   "source": [
    "data_speaker1 = pos_voice_result\n",
    "data_speaker2 = pos_voice_result_2\n",
    "data_speaker1_torch = torch.from_numpy(data_speaker1).float()\n",
    "data_speaker2_torch = torch.from_numpy(data_speaker2).float()\n",
    "\n",
    "data_speaker_ds = TensorDataset(data_speaker1_torch, data_speaker2_torch)\n",
    "\n",
    "batch_size = 32\n",
    "data_speaker_dl = DataLoader(data_speaker_ds, batch_size=batch_size, num_workers = 4, pin_memory = True)"
   ]
  },
  {
   "cell_type": "markdown",
   "id": "5aa8ee7d",
   "metadata": {},
   "source": [
    "# Loading and preparing trained voice comparison model"
   ]
  },
  {
   "cell_type": "code",
   "execution_count": 23,
   "id": "7075b790",
   "metadata": {
    "scrolled": true
   },
   "outputs": [
    {
     "data": {
      "text/plain": [
       "<All keys matched successfully>"
      ]
     },
     "execution_count": 23,
     "metadata": {},
     "output_type": "execute_result"
    }
   ],
   "source": [
    "CNN = model(data_speaker1_torch.shape[1], 3)\n",
    "CNN.load_state_dict(torch.load(\"voice_comparison_model\"), strict=False)"
   ]
  },
  {
   "cell_type": "markdown",
   "id": "18708ad5",
   "metadata": {},
   "source": [
    "# Executing the CNN"
   ]
  },
  {
   "cell_type": "code",
   "execution_count": 24,
   "id": "2d1a6aa1",
   "metadata": {
    "scrolled": true
   },
   "outputs": [
    {
     "name": "stdout",
     "output_type": "stream",
     "text": [
      "22\n",
      "cuda\n"
     ]
    }
   ],
   "source": [
    "device = torch.device(\"cuda\" if torch.cuda.is_available() else \"cpu\")\n",
    "CNN = CNN.to(device)\n",
    "c = 0\n",
    "listOfYPreds = []\n",
    "for x1, x2 in data_speaker_dl:\n",
    "    x1, x2 = x1.to(device), x2.to(device)\n",
    "    y_pred = CNN(x1, x2)\n",
    "    y_pred = y_pred.ge(.5).view(-1).cpu()\n",
    "    c = c + 1\n",
    "    listOfYPreds.append(y_pred)\n",
    "print(c)\n",
    "print(device)"
   ]
  },
  {
   "cell_type": "markdown",
   "id": "06045f61",
   "metadata": {},
   "source": [
    "# Obtaining all true and false labels in one list"
   ]
  },
  {
   "cell_type": "code",
   "execution_count": 25,
   "id": "da855791",
   "metadata": {
    "scrolled": true
   },
   "outputs": [
    {
     "name": "stdout",
     "output_type": "stream",
     "text": [
      "673\n",
      "559\n",
      "114\n"
     ]
    }
   ],
   "source": [
    "predictions = []\n",
    "for i in listOfYPreds:\n",
    "    for v in i:\n",
    "        predictions.append(v)    \n",
    "print(len(predictions))\n",
    "print(predictions.count(True))\n",
    "print(predictions.count(False))\n",
    "timesSpeakerChanged = predictions.count(False)"
   ]
  },
  {
   "cell_type": "code",
   "execution_count": 26,
   "id": "b0eed889",
   "metadata": {
    "scrolled": false
   },
   "outputs": [
    {
     "name": "stdout",
     "output_type": "stream",
     "text": [
      "674\n"
     ]
    }
   ],
   "source": [
    "correct = []\n",
    "print(len(labels_T))\n",
    "for index, pred in enumerate(predictions):\n",
    "    theSame = labels_T[index] == labels_T[index+1]\n",
    "    correct.append(pred == theSame)"
   ]
  },
  {
   "cell_type": "code",
   "execution_count": 30,
   "id": "45c9728d",
   "metadata": {
    "scrolled": true
   },
   "outputs": [
    {
     "name": "stdout",
     "output_type": "stream",
     "text": [
      "673\n",
      "573\n",
      "85.14%\n"
     ]
    }
   ],
   "source": [
    "print(len(correct))\n",
    "print(correct.count(True))\n",
    "format_float = \"{:.2f}\".format(correct.count(True)/len(correct)*100)\n",
    "print(str(format_float)+\"%\")"
   ]
  },
  {
   "cell_type": "markdown",
   "id": "155c17f2",
   "metadata": {},
   "source": [
    "# Plotting the data"
   ]
  },
  {
   "cell_type": "code",
   "execution_count": 57,
   "id": "473a9d0b",
   "metadata": {},
   "outputs": [
    {
     "name": "stdout",
     "output_type": "stream",
     "text": [
      "53.93% of the audio contains speech.\n",
      "During this speech audio, 114 times the speaker changed.\n"
     ]
    },
    {
     "data": {
      "image/png": "[encoded data removed]",
      "text/plain": [
       "<Figure size 1296x72 with 1 Axes>"
      ]
     },
     "metadata": {
      "needs_background": "light"
     },
     "output_type": "display_data"
    },
    {
     "data": {
      "image/png": "[encoded data removed]",
      "text/plain": [
       "<Figure size 1296x72 with 1 Axes>"
      ]
     },
     "metadata": {
      "needs_background": "light"
     },
     "output_type": "display_data"
    },
    {
     "data": {
      "image/png": "[encoded data removed]",
      "text/plain": [
       "<Figure size 1296x72 with 1 Axes>"
      ]
     },
     "metadata": {
      "needs_background": "light"
     },
     "output_type": "display_data"
    }
   ],
   "source": [
    "plt.figure(figsize=(18,1))\n",
    "plt.plot(range(0, len(labels_TF)), labels_TF, 'r')\n",
    "plt.title(\"Displaying if there is a voice present out of all samples\")\n",
    "plt.xlabel('Sample')\n",
    "plt.ylabel('False or true')\n",
    "plt.figure(figsize=(18,1))\n",
    "plt.plot(range(0, len(preds)), preds, 'r')\n",
    "plt.title(\"Displaying if there is a voice detected by the voice detection model out of all samples\")\n",
    "plt.xlabel('Sample')\n",
    "plt.ylabel('False or true')\n",
    "plt.figure(figsize=(18,1))\n",
    "plt.plot(range(0, len(correct)), correct, 'r')\n",
    "plt.title(\"Displaying if the voice comparison model detects a change in speakers out of all speech samples\")\n",
    "plt.xlabel('Sample')\n",
    "plt.ylabel('False or true')\n",
    "print(str(percentage_spoken)+\"% of the audio contains speech.\")\n",
    "print(\"During this speech audio, \"+str(timesSpeakerChanged)+\" times the speaker changed.\")\n"
   ]
  },
  {
   "cell_type": "code",
   "execution_count": null,
   "id": "d8543d28",
   "metadata": {},
   "outputs": [],
   "source": []
  }
 ],
 "metadata": {
  "kernelspec": {
   "display_name": "Python 3 (ipykernel)",
   "language": "python",
   "name": "python3"
  },
  "language_info": {
   "codemirror_mode": {
    "name": "ipython",
    "version": 3
   },
   "file_extension": ".py",
   "mimetype": "text/x-python",
   "name": "python",
   "nbconvert_exporter": "python",
   "pygments_lexer": "ipython3",
   "version": "3.9.7"
  }
 },
 "nbformat": 4,
 "nbformat_minor": 5
}
